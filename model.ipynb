{
 "cells": [
  {
   "cell_type": "code",
   "execution_count": null,
   "metadata": {},
   "outputs": [],
   "source": [
    "import pandas as pd\n",
    "import numpy as np"
   ]
  },
  {
   "cell_type": "code",
   "execution_count": null,
   "metadata": {},
   "outputs": [],
   "source": [
    "match = pd.read_csv('matches.csv')\n",
    "delivery = pd.read_csv('deliveries.csv')"
   ]
  },
  {
   "cell_type": "code",
   "execution_count": null,
   "metadata": {},
   "outputs": [],
   "source": [
    "total_score_df = delivery.groupby(['match_id', 'inning']).sum()['total_runs'].reset_index()\n"
   ]
  },
  {
   "cell_type": "code",
   "execution_count": null,
   "metadata": {},
   "outputs": [],
   "source": [
    "total_score_df = total_score_df[total_score_df['inning'] == 1]\n"
   ]
  },
  {
   "cell_type": "code",
   "execution_count": null,
   "metadata": {},
   "outputs": [],
   "source": [
    "total_score_df"
   ]
  },
  {
   "cell_type": "code",
   "execution_count": null,
   "metadata": {},
   "outputs": [],
   "source": [
    "match_df = match.merge(total_score_df[['match_id', 'total_runs']], left_on='id', right_on='match_id')"
   ]
  },
  {
   "cell_type": "code",
   "execution_count": null,
   "metadata": {},
   "outputs": [],
   "source": [
    "match_df"
   ]
  },
  {
   "cell_type": "code",
   "execution_count": null,
   "metadata": {},
   "outputs": [],
   "source": [
    "match_df['team1'].unique()\n"
   ]
  },
  {
   "cell_type": "code",
   "execution_count": null,
   "metadata": {},
   "outputs": [],
   "source": [
    "teams = ['Sunrisers Hyderabad', 'Mumbai Indians',\n",
    "         'Royal Challengers Bangalore',\n",
    "         'Kolkata Knight Riders', 'Kings XI Punjab',\n",
    "         'Chennai Super Kings', 'Rajasthan Royals',\n",
    "         'Delhi Capitals']\n"
   ]
  },
  {
   "cell_type": "code",
   "execution_count": null,
   "metadata": {},
   "outputs": [],
   "source": [
    "match_df['team1']=match_df['team1'].str.replace('Delhi Daredevils','Delhi Capitals')\n",
    "match_df['team2']=match_df['team2'].str.replace('Delhi Daredevils','Delhi Capitals')\n",
    "\n",
    "match_df['team1']=match_df['team1'].str.replace('Deccan Chargers','Sunrisers Hyderabad')\n",
    "match_df['team2']=match_df['team2'].str.replace('Deccan Chargers','Sunrisers Hyderabad')"
   ]
  },
  {
   "cell_type": "code",
   "execution_count": null,
   "metadata": {},
   "outputs": [],
   "source": [
    "match_df=match_df[match_df['team1'].isin(teams)]\n",
    "match_df=match_df[match_df['team2'].isin(teams)]"
   ]
  },
  {
   "cell_type": "code",
   "execution_count": null,
   "metadata": {},
   "outputs": [],
   "source": [
    "match_df['dl_applied'].value_counts()"
   ]
  },
  {
   "cell_type": "code",
   "execution_count": null,
   "metadata": {},
   "outputs": [],
   "source": [
    "match_df=match_df[match_df['dl_applied']==0]"
   ]
  },
  {
   "cell_type": "code",
   "execution_count": null,
   "metadata": {},
   "outputs": [],
   "source": [
    "match_df"
   ]
  },
  {
   "cell_type": "code",
   "execution_count": null,
   "metadata": {},
   "outputs": [],
   "source": [
    "match_df=match_df[['match_id','city','winner','total_runs']]"
   ]
  },
  {
   "cell_type": "code",
   "execution_count": null,
   "metadata": {},
   "outputs": [],
   "source": [
    "delivery_df=match_df.merge(delivery,on='match_id')"
   ]
  },
  {
   "cell_type": "code",
   "execution_count": null,
   "metadata": {},
   "outputs": [],
   "source": [
    "delivery_df=delivery_df[delivery_df['inning']==2]"
   ]
  },
  {
   "cell_type": "code",
   "execution_count": null,
   "metadata": {},
   "outputs": [],
   "source": [
    "delivery_df"
   ]
  },
  {
   "cell_type": "code",
   "execution_count": null,
   "metadata": {},
   "outputs": [],
   "source": [
    "delivery_df['current_score']=delivery_df.groupby('match_id').cumsum()['total_runs_y']"
   ]
  },
  {
   "cell_type": "code",
   "execution_count": null,
   "metadata": {},
   "outputs": [],
   "source": [
    "delivery_df['runs_left']=delivery_df['total_runs_x']-delivery_df['current_score']"
   ]
  },
  {
   "cell_type": "code",
   "execution_count": null,
   "metadata": {},
   "outputs": [],
   "source": [
    "delivery_df['balls_left']=126- (delivery_df['over']*6 + delivery_df['ball'])"
   ]
  },
  {
   "cell_type": "code",
   "execution_count": null,
   "metadata": {},
   "outputs": [],
   "source": [
    "delivery_df\n",
    "# delivery_df.drop(columns=['wickets'],inplace=True)"
   ]
  },
  {
   "cell_type": "code",
   "execution_count": null,
   "metadata": {},
   "outputs": [],
   "source": [
    "delivery_df['player_dismissed']=delivery_df['player_dismissed'].fillna(\"0\")\n",
    "delivery_df['player_dismissed']=delivery_df['player_dismissed'].apply(lambda x:x if x ==\"0\" else \"1\")\n",
    "delivery_df['player_dismissed']=delivery_df['player_dismissed'].astype(int)\n",
    "wickets=delivery_df.groupby('match_id').cumsum()['player_dismissed'].values\n",
    "delivery_df['wickets']=10-wickets \n",
    "delivery_df.head()"
   ]
  },
  {
   "cell_type": "code",
   "execution_count": null,
   "metadata": {},
   "outputs": [],
   "source": [
    "delivery_df.head()"
   ]
  },
  {
   "cell_type": "code",
   "execution_count": null,
   "metadata": {},
   "outputs": [],
   "source": [
    "# calculate Current Rate\n",
    "delivery_df['crr']=(delivery_df['current_score']*6)/(120-delivery_df['balls_left'])"
   ]
  },
  {
   "cell_type": "code",
   "execution_count": null,
   "metadata": {},
   "outputs": [],
   "source": [
    "# calculate required Run Rate\n",
    "delivery_df['rrr']=(delivery_df['runs_left']*6)/(delivery_df['balls_left'])"
   ]
  },
  {
   "cell_type": "code",
   "execution_count": null,
   "metadata": {},
   "outputs": [],
   "source": [
    "def result(row):\n",
    "    if row['batting_team']== row['winner']:\n",
    "        return 1\n",
    "    else:\n",
    "        return 0"
   ]
  },
  {
   "cell_type": "code",
   "execution_count": null,
   "metadata": {},
   "outputs": [],
   "source": [
    "delivery_df"
   ]
  },
  {
   "cell_type": "code",
   "execution_count": null,
   "metadata": {},
   "outputs": [],
   "source": [
    "final_df=delivery_df[['batting_team','bowling_team','city','runs_left','balls_left','wickets_left','crr','rrr','result']]"
   ]
  },
  {
   "cell_type": "code",
   "execution_count": null,
   "metadata": {},
   "outputs": [],
   "source": [
    "final_df"
   ]
  },
  {
   "cell_type": "code",
   "execution_count": null,
   "metadata": {},
   "outputs": [],
   "source": [
    "final_df.to_csv('finaldf.csv',index='False')"
   ]
  },
  {
   "cell_type": "code",
   "execution_count": 212,
   "metadata": {},
   "outputs": [
    {
     "data": {
      "text/html": [
       "<div>\n",
       "<style scoped>\n",
       "    .dataframe tbody tr th:only-of-type {\n",
       "        vertical-align: middle;\n",
       "    }\n",
       "\n",
       "    .dataframe tbody tr th {\n",
       "        vertical-align: top;\n",
       "    }\n",
       "\n",
       "    .dataframe thead th {\n",
       "        text-align: right;\n",
       "    }\n",
       "</style>\n",
       "<table border=\"1\" class=\"dataframe\">\n",
       "  <thead>\n",
       "    <tr style=\"text-align: right;\">\n",
       "      <th></th>\n",
       "      <th>batting_team</th>\n",
       "      <th>bowling_team</th>\n",
       "      <th>city</th>\n",
       "      <th>runs_left</th>\n",
       "      <th>balls_left</th>\n",
       "      <th>wickets_left</th>\n",
       "      <th>crr</th>\n",
       "      <th>rrr</th>\n",
       "      <th>result</th>\n",
       "    </tr>\n",
       "  </thead>\n",
       "  <tbody>\n",
       "    <tr>\n",
       "      <th>111074</th>\n",
       "      <td>Mumbai Indians</td>\n",
       "      <td>Royal Challengers Bangalore</td>\n",
       "      <td>Mumbai</td>\n",
       "      <td>206</td>\n",
       "      <td>96</td>\n",
       "      <td>9</td>\n",
       "      <td>7.250000</td>\n",
       "      <td>12.875000</td>\n",
       "      <td>0</td>\n",
       "    </tr>\n",
       "    <tr>\n",
       "      <th>30098</th>\n",
       "      <td>Kings XI Punjab</td>\n",
       "      <td>Delhi Daredevils</td>\n",
       "      <td>Bloemfontein</td>\n",
       "      <td>58</td>\n",
       "      <td>51</td>\n",
       "      <td>7</td>\n",
       "      <td>5.391304</td>\n",
       "      <td>6.823529</td>\n",
       "      <td>1</td>\n",
       "    </tr>\n",
       "    <tr>\n",
       "      <th>22260</th>\n",
       "      <td>Mumbai Indians</td>\n",
       "      <td>Deccan Chargers</td>\n",
       "      <td>Durban</td>\n",
       "      <td>159</td>\n",
       "      <td>104</td>\n",
       "      <td>9</td>\n",
       "      <td>3.375000</td>\n",
       "      <td>9.173077</td>\n",
       "      <td>0</td>\n",
       "    </tr>\n",
       "    <tr>\n",
       "      <th>79459</th>\n",
       "      <td>Rajasthan Royals</td>\n",
       "      <td>Royal Challengers Bangalore</td>\n",
       "      <td>Jaipur</td>\n",
       "      <td>139</td>\n",
       "      <td>96</td>\n",
       "      <td>9</td>\n",
       "      <td>8.000000</td>\n",
       "      <td>8.687500</td>\n",
       "      <td>1</td>\n",
       "    </tr>\n",
       "    <tr>\n",
       "      <th>14689</th>\n",
       "      <td>Deccan Chargers</td>\n",
       "      <td>Kolkata Knight Riders</td>\n",
       "      <td>Hyderabad</td>\n",
       "      <td>187</td>\n",
       "      <td>101</td>\n",
       "      <td>9</td>\n",
       "      <td>5.368421</td>\n",
       "      <td>11.108911</td>\n",
       "      <td>0</td>\n",
       "    </tr>\n",
       "    <tr>\n",
       "      <th>...</th>\n",
       "      <td>...</td>\n",
       "      <td>...</td>\n",
       "      <td>...</td>\n",
       "      <td>...</td>\n",
       "      <td>...</td>\n",
       "      <td>...</td>\n",
       "      <td>...</td>\n",
       "      <td>...</td>\n",
       "      <td>...</td>\n",
       "    </tr>\n",
       "    <tr>\n",
       "      <th>2308</th>\n",
       "      <td>Kolkata Knight Riders</td>\n",
       "      <td>Delhi Daredevils</td>\n",
       "      <td>Delhi</td>\n",
       "      <td>149</td>\n",
       "      <td>109</td>\n",
       "      <td>9</td>\n",
       "      <td>10.363636</td>\n",
       "      <td>8.201835</td>\n",
       "      <td>1</td>\n",
       "    </tr>\n",
       "    <tr>\n",
       "      <th>51046</th>\n",
       "      <td>Rajasthan Royals</td>\n",
       "      <td>Kings XI Punjab</td>\n",
       "      <td>Chandigarh</td>\n",
       "      <td>150</td>\n",
       "      <td>84</td>\n",
       "      <td>8</td>\n",
       "      <td>7.500000</td>\n",
       "      <td>10.714286</td>\n",
       "      <td>0</td>\n",
       "    </tr>\n",
       "    <tr>\n",
       "      <th>21088</th>\n",
       "      <td>Royal Challengers Bangalore</td>\n",
       "      <td>Chennai Super Kings</td>\n",
       "      <td>Port Elizabeth</td>\n",
       "      <td>113</td>\n",
       "      <td>55</td>\n",
       "      <td>5</td>\n",
       "      <td>6.092308</td>\n",
       "      <td>12.327273</td>\n",
       "      <td>0</td>\n",
       "    </tr>\n",
       "    <tr>\n",
       "      <th>60813</th>\n",
       "      <td>Chennai Super Kings</td>\n",
       "      <td>Royal Challengers Bangalore</td>\n",
       "      <td>Chennai</td>\n",
       "      <td>194</td>\n",
       "      <td>105</td>\n",
       "      <td>10</td>\n",
       "      <td>4.400000</td>\n",
       "      <td>11.085714</td>\n",
       "      <td>1</td>\n",
       "    </tr>\n",
       "    <tr>\n",
       "      <th>127682</th>\n",
       "      <td>Rajasthan Royals</td>\n",
       "      <td>Sunrisers Hyderabad</td>\n",
       "      <td>Jaipur</td>\n",
       "      <td>139</td>\n",
       "      <td>107</td>\n",
       "      <td>10</td>\n",
       "      <td>6.000000</td>\n",
       "      <td>7.794393</td>\n",
       "      <td>0</td>\n",
       "    </tr>\n",
       "  </tbody>\n",
       "</table>\n",
       "<p>72413 rows × 9 columns</p>\n",
       "</div>"
      ],
      "text/plain": [
       "                       batting_team                 bowling_team  \\\n",
       "111074               Mumbai Indians  Royal Challengers Bangalore   \n",
       "30098               Kings XI Punjab             Delhi Daredevils   \n",
       "22260                Mumbai Indians              Deccan Chargers   \n",
       "79459              Rajasthan Royals  Royal Challengers Bangalore   \n",
       "14689               Deccan Chargers        Kolkata Knight Riders   \n",
       "...                             ...                          ...   \n",
       "2308          Kolkata Knight Riders             Delhi Daredevils   \n",
       "51046              Rajasthan Royals              Kings XI Punjab   \n",
       "21088   Royal Challengers Bangalore          Chennai Super Kings   \n",
       "60813           Chennai Super Kings  Royal Challengers Bangalore   \n",
       "127682             Rajasthan Royals          Sunrisers Hyderabad   \n",
       "\n",
       "                  city  runs_left  balls_left  wickets_left        crr  \\\n",
       "111074          Mumbai        206          96             9   7.250000   \n",
       "30098     Bloemfontein         58          51             7   5.391304   \n",
       "22260           Durban        159         104             9   3.375000   \n",
       "79459           Jaipur        139          96             9   8.000000   \n",
       "14689        Hyderabad        187         101             9   5.368421   \n",
       "...                ...        ...         ...           ...        ...   \n",
       "2308             Delhi        149         109             9  10.363636   \n",
       "51046       Chandigarh        150          84             8   7.500000   \n",
       "21088   Port Elizabeth        113          55             5   6.092308   \n",
       "60813          Chennai        194         105            10   4.400000   \n",
       "127682          Jaipur        139         107            10   6.000000   \n",
       "\n",
       "              rrr  result  \n",
       "111074  12.875000       0  \n",
       "30098    6.823529       1  \n",
       "22260    9.173077       0  \n",
       "79459    8.687500       1  \n",
       "14689   11.108911       0  \n",
       "...           ...     ...  \n",
       "2308     8.201835       1  \n",
       "51046   10.714286       0  \n",
       "21088   12.327273       0  \n",
       "60813   11.085714       1  \n",
       "127682   7.794393       0  \n",
       "\n",
       "[72413 rows x 9 columns]"
      ]
     },
     "execution_count": 212,
     "metadata": {},
     "output_type": "execute_result"
    }
   ],
   "source": [
    "final_df.sample(final_df.shape[0])"
   ]
  },
  {
   "cell_type": "code",
   "execution_count": null,
   "metadata": {},
   "outputs": [],
   "source": [
    "dsnjdus"
   ]
  }
 ],
 "metadata": {
  "kernelspec": {
   "display_name": "Python 3",
   "language": "python",
   "name": "python3"
  },
  "language_info": {
   "codemirror_mode": {
    "name": "ipython",
    "version": 3
   },
   "file_extension": ".py",
   "mimetype": "text/x-python",
   "name": "python",
   "nbconvert_exporter": "python",
   "pygments_lexer": "ipython3",
   "version": "3.9.13"
  }
 },
 "nbformat": 4,
 "nbformat_minor": 2
}
